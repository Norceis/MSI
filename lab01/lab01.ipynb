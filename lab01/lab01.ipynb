{
 "cells": [
  {
   "cell_type": "markdown",
   "source": [
    "Zaimplementuj własny model rozmyty. Możesz korzystać z bibliotek (numpy itp.) z wyłączeniem bibliotek implementujących systemy rozmyte.\n",
    "\n",
    "Model powinien pozwalać na:\n",
    "\n",
    "Zdefiniowanie zmiennych wejściowych wraz z ich zakresem.\n",
    "Zdefiniowanie na zmiennych wejściowych zbiorów rozmytych wraz z ich nazwą i kształtem funkcji przynależności (trójkątna i trapezoidalna)\n",
    "Zdefiniowanie reguł opierających się na zmiennych wejściowych i zbiorach na nich opisanych. Wyjście reguły jest wartością liczbową zmiennej wyjściowej (Model TSK 0-rzędu)\n",
    "Określenie stopnia prawdziwości poprzednika reguły\n",
    "Określenie wartości zmiennej wyjściowej w oparciu o model wnioskowania TSK\n",
    "Wykorzystaj zaimplementowany model do określenia wartości napiwku (procentowo, 0-15) na postawie jakości jedzenia (0-10) i jakości obsługi (0-10)."
   ],
   "metadata": {
    "collapsed": false,
    "pycharm": {
     "name": "#%% md\n"
    }
   }
  },
  {
   "cell_type": "code",
   "execution_count": 44,
   "metadata": {
    "collapsed": true,
    "pycharm": {
     "name": "#%%\n"
    }
   },
   "outputs": [],
   "source": [
    "import numpy as np\n",
    "import copy\n",
    "import math\n",
    "import pandas as pd\n",
    "from matplotlib import pyplot as plt"
   ]
  },
  {
   "cell_type": "code",
   "execution_count": 45,
   "outputs": [],
   "source": [
    "class Rule():\n",
    "    def __init__(self, input_1 = list, operator = str, input_2 = list, output = list):\n",
    "        self.input_1 = input_1\n",
    "        self.input_2 = input_2\n",
    "        self.operator = operator\n",
    "        self.output = output\n",
    "\n",
    "class Input():\n",
    "    def __init__(self, input_range: np.ndarray, name: str):\n",
    "        self.input_range = input_range\n",
    "        self.name = name\n",
    "        self.poor = []\n",
    "        self.average = []\n",
    "        self.good = []\n",
    "        self.values = [self.poor, self.average, self.good]\n",
    "\n",
    "    def auto_tri(self):\n",
    "        x = self.input_range[-1]\n",
    "        self.poor = [0, 0, x/2]\n",
    "        self.average = [0, x/2, x]\n",
    "        self.good = [x/2, x, x]\n",
    "        self.values = [self.poor, self.average, self.good]\n",
    "\n",
    "    def auto_tra(self):\n",
    "        x = self.input_range[-1]\n",
    "        bias = x/5\n",
    "        self.poor = [0, 0, bias, x/2 - bias/2]\n",
    "        self.average = [bias, x/2 - bias/2, x/2 + bias/2, x - bias]\n",
    "        self.good = [x/2 + bias/2, x - bias, x, x]\n",
    "        self.values = [self.poor, self.average, self.good]\n",
    "\n",
    "class Output():\n",
    "    def __init__(self, input_range: np.ndarray, name: str):\n",
    "        self.input_range = input_range\n",
    "        self.name = name\n",
    "        self.poor = []\n",
    "        self.average = []\n",
    "        self.good = []\n",
    "        self.values = [self.poor, self.average, self.good]\n",
    "\n",
    "    def auto_tri(self):\n",
    "        x = self.input_range[-1]\n",
    "        self.poor = [0, 0, x/2]\n",
    "        self.average = [0, x/2, x]\n",
    "        self.good = [x/2, x, x]\n",
    "        self.values = [self.poor, self.average, self.good]\n",
    "\n",
    "\n",
    "    def auto_tra(self):\n",
    "        x = self.input_range[-1]\n",
    "        bias = x/5\n",
    "        self.poor = [0, 0, bias, x/2 - bias/2]\n",
    "        self.average = [bias, x/2 - bias/2, x/2 + bias/2, x - bias]\n",
    "        self.good = [x/2 + bias/2, x - bias, x, x]\n",
    "        self.values = [self.poor, self.average, self.good]\n",
    "\n",
    "class FuzzyModel():\n",
    "    def __init__(self, inputs_values: dict, inputs_dict: dict, rules: list, output: Output):\n",
    "        self.rules = rules\n",
    "        self.inputs_dict = inputs_dict\n",
    "        self.output = output\n",
    "        self.inputs_values = inputs_values\n",
    "        self.inputs_membered = dict()\n",
    "        self.output_membered = dict()\n",
    "        self.y_array = None\n",
    "\n",
    "    def singular_membership(self, value: float, ranges: list) -> float:\n",
    "        if len(ranges) == 3:\n",
    "            a, b, c = ranges\n",
    "\n",
    "            if value <= b:\n",
    "                max_value = b - value\n",
    "                min_value = value - a\n",
    "                sum_values = min_value + max_value\n",
    "                if sum_values == 0:\n",
    "                    return 1\n",
    "                membership = round(min_value / sum_values, 5)\n",
    "                if membership < 0: return 0\n",
    "                return membership\n",
    "\n",
    "            max_value = c - value\n",
    "            min_value = value - b\n",
    "            sum_values = min_value + max_value\n",
    "            if sum_values == 0:\n",
    "                    return 1\n",
    "            membership = round(max_value / sum_values, 5)\n",
    "            if membership < 0: return 0\n",
    "            return membership\n",
    "\n",
    "        if len(ranges) == 4:\n",
    "            a, b, c, d = ranges\n",
    "\n",
    "            if b < value <= c:\n",
    "                return 1\n",
    "\n",
    "            elif c < value <= d:\n",
    "                max_value = d - value\n",
    "                min_value = value - c\n",
    "                sum_values = min_value + max_value\n",
    "                if sum_values == 0:\n",
    "                    return 1\n",
    "                membership = round(max_value / sum_values, 5)\n",
    "                return membership\n",
    "\n",
    "            elif a < value <= b:\n",
    "                max_value = b - value\n",
    "                min_value = value - a\n",
    "                sum_values = min_value + max_value\n",
    "                if sum_values == 0:\n",
    "                    return 1\n",
    "                membership = round(min_value / sum_values, 5)\n",
    "                return membership\n",
    "\n",
    "            return 0\n",
    "\n",
    "\n",
    "    def membership_function(self):\n",
    "        for input in list(self.inputs_values.keys()):\n",
    "            inputs_membered_list = []\n",
    "            for fuzzy_variable in range(len(self.inputs_dict[input].values)):\n",
    "                inputs_membered_list.append(self.singular_membership(self.inputs_values[input], self.inputs_dict[input].values[fuzzy_variable]))\n",
    "\n",
    "            self.inputs_membered[input] = inputs_membered_list\n",
    "\n",
    "\n",
    "    def deposit_rule_on_output(self, x_array: np.array, global_y_array: np.array, rule: Rule):\n",
    "\n",
    "        temp_y_array = copy.deepcopy(global_y_array)\n",
    "\n",
    "        match rule.input_1[1]:\n",
    "            case 'poor':\n",
    "                index_1 = 0\n",
    "            case 'average':\n",
    "                index_1 = 1\n",
    "            case 'good':\n",
    "                index_1 = 2\n",
    "\n",
    "        match rule.input_2[1]:\n",
    "            case 'poor':\n",
    "                index_2 = 0\n",
    "            case 'average':\n",
    "                index_2 = 1\n",
    "            case 'good':\n",
    "                index_2 = 2\n",
    "\n",
    "        match rule.output[1]:\n",
    "            case 'poor':\n",
    "                index_output = 0\n",
    "            case 'average':\n",
    "                index_output = 1\n",
    "            case 'good':\n",
    "                index_output = 2\n",
    "\n",
    "        match rule.operator:\n",
    "            case 'AND':\n",
    "                cut = min(self.inputs_membered[rule.input_1[0]][index_1], self.inputs_membered[rule.input_2[0]][index_2])\n",
    "            case 'OR':\n",
    "                cut = max(self.inputs_membered[rule.input_1[0]][index_1], self.inputs_membered[rule.input_2[0]][index_2])\n",
    "\n",
    "        for sample in range(len(x_array)):\n",
    "            temp_y_array[sample] = self.singular_membership(x_array[sample], self.output.values[index_output])\n",
    "\n",
    "        cut_y_array = np.where(temp_y_array > cut, cut, temp_y_array)\n",
    "        return np.where(global_y_array >= cut_y_array, global_y_array, cut_y_array)\n",
    "\n",
    "    def calculate(self):\n",
    "        x_array = copy.deepcopy(self.output.input_range)\n",
    "        global_y_array = np.zeros(x_array.shape[0])\n",
    "\n",
    "        for rule in rules:\n",
    "            global_y_array = self.deposit_rule_on_output(x_array, global_y_array, rule)\n",
    "\n",
    "        self.y_array = global_y_array\n",
    "\n",
    "    def output_value(self):\n",
    "        value = 0\n",
    "        value += sum([self.output.input_range[x] * self.y_array[x] for x in range(len(self.output.input_range))])\n",
    "\n",
    "        return round(value/sum(self.y_array), 2)"
   ],
   "metadata": {
    "collapsed": false,
    "pycharm": {
     "name": "#%%\n"
    }
   }
  },
  {
   "cell_type": "code",
   "execution_count": 46,
   "outputs": [],
   "source": [
    "quality = Input(np.arange(0, 10.1, 0.1), 'quality')\n",
    "service = Input(np.arange(0, 10.1, 0.1), 'service')\n",
    "tip = Output(np.arange(0, 15.1, 0.1), 'tip')\n",
    "\n",
    "inputs_dict = {\n",
    "'quality': quality,\n",
    "'service': service}"
   ],
   "metadata": {
    "collapsed": false,
    "pycharm": {
     "name": "#%%\n"
    }
   }
  },
  {
   "cell_type": "code",
   "execution_count": 47,
   "outputs": [],
   "source": [
    "quality.auto_tri()\n",
    "service.auto_tri()\n",
    "tip.auto_tri()"
   ],
   "metadata": {
    "collapsed": false,
    "pycharm": {
     "name": "#%%\n"
    }
   }
  },
  {
   "cell_type": "code",
   "execution_count": 48,
   "outputs": [],
   "source": [
    "inputs_values = {'quality': 5.5,\n",
    "               'service': 2.5}\n",
    "\n",
    "rules = [Rule(['quality', 'poor'], 'AND', ['service', 'poor'], ['tip', 'poor']),\n",
    "         Rule(['quality', 'poor'], 'AND', ['service', 'average'], ['tip', 'poor']),\n",
    "         Rule(['quality', 'average'], 'AND', ['service', 'poor'], ['tip', 'poor']),\n",
    "         Rule(['quality', 'poor'], 'AND', ['service', 'good'], ['tip', 'average']),\n",
    "         Rule(['quality', 'good'], 'AND', ['service', 'poor'], ['tip', 'average']),\n",
    "         Rule(['quality', 'average'], 'AND', ['service', 'average'], ['tip', 'average']),\n",
    "         Rule(['quality', 'good'], 'AND', ['service', 'average'], ['tip', 'good']),\n",
    "         Rule(['quality', 'average'], 'AND', ['service', 'good'], ['tip', 'good']),\n",
    "         Rule(['quality', 'good'], 'AND', ['service', 'good'], ['tip', 'good']),\n",
    "         ]"
   ],
   "metadata": {
    "collapsed": false,
    "pycharm": {
     "name": "#%%\n"
    }
   }
  },
  {
   "cell_type": "code",
   "execution_count": 49,
   "outputs": [
    {
     "data": {
      "text/plain": "{'quality': [0, 0.9, 0.1], 'service': [0.5, 0.5, 0]}"
     },
     "execution_count": 49,
     "metadata": {},
     "output_type": "execute_result"
    }
   ],
   "source": [
    "model = FuzzyModel(inputs_values=inputs_values, inputs_dict=inputs_dict, rules=[], output=tip)\n",
    "model.membership_function()\n",
    "model.inputs_membered"
   ],
   "metadata": {
    "collapsed": false,
    "pycharm": {
     "name": "#%%\n"
    }
   }
  },
  {
   "cell_type": "code",
   "execution_count": 50,
   "outputs": [],
   "source": [
    "model.calculate()"
   ],
   "metadata": {
    "collapsed": false,
    "pycharm": {
     "name": "#%%\n"
    }
   }
  },
  {
   "cell_type": "code",
   "execution_count": 51,
   "outputs": [
    {
     "data": {
      "text/plain": "6.63"
     },
     "execution_count": 51,
     "metadata": {},
     "output_type": "execute_result"
    }
   ],
   "source": [
    "model.output_value()"
   ],
   "metadata": {
    "collapsed": false,
    "pycharm": {
     "name": "#%%\n"
    }
   }
  },
  {
   "cell_type": "code",
   "execution_count": 52,
   "outputs": [
    {
     "data": {
      "text/plain": "<Figure size 640x480 with 1 Axes>",
      "image/png": "[encoded data removed]"
     },
     "metadata": {},
     "output_type": "display_data"
    }
   ],
   "source": [
    "x_list, y_list = list(), list()\n",
    "for x, y in enumerate(model.y_array):\n",
    "    x_list.append(x)\n",
    "    y_list.append(y)\n",
    "\n",
    "plt.plot(x_list, y_list)\n",
    "plt.show()"
   ],
   "metadata": {
    "collapsed": false,
    "pycharm": {
     "name": "#%%\n"
    }
   }
  },
  {
   "cell_type": "code",
   "execution_count": 53,
   "outputs": [
    {
     "data": {
      "text/plain": "[[0, 0, 5.0], [0, 5.0, 10.0], [5.0, 10.0, 10.0]]"
     },
     "execution_count": 53,
     "metadata": {},
     "output_type": "execute_result"
    }
   ],
   "source": [
    "service.values"
   ],
   "metadata": {
    "collapsed": false,
    "pycharm": {
     "name": "#%%\n"
    }
   }
  },
  {
   "cell_type": "code",
   "execution_count": 54,
   "outputs": [
    {
     "data": {
      "text/plain": "{'quality': 5.5, 'service': 2.5}"
     },
     "execution_count": 54,
     "metadata": {},
     "output_type": "execute_result"
    }
   ],
   "source": [
    "model.inputs_values"
   ],
   "metadata": {
    "collapsed": false,
    "pycharm": {
     "name": "#%%\n"
    }
   }
  },
  {
   "cell_type": "code",
   "execution_count": 54,
   "outputs": [],
   "source": [],
   "metadata": {
    "collapsed": false,
    "pycharm": {
     "name": "#%%\n"
    }
   }
  }
 ],
 "metadata": {
  "kernelspec": {
   "display_name": "Python 3",
   "language": "python",
   "name": "python3"
  },
  "language_info": {
   "codemirror_mode": {
    "name": "ipython",
    "version": 2
   },
   "file_extension": ".py",
   "mimetype": "text/x-python",
   "name": "python",
   "nbconvert_exporter": "python",
   "pygments_lexer": "ipython2",
   "version": "2.7.6"
  }
 },
 "nbformat": 4,
 "nbformat_minor": 0
}